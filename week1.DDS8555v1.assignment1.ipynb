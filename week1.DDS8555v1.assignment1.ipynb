{
 "cells": [
  {
   "cell_type": "code",
   "execution_count": 1,
   "id": "ebbefdb3-dc82-40e4-a8f0-c5fbb7fcdc5f",
   "metadata": {},
   "outputs": [
    {
     "data": {
      "text/html": [
       "<div>\n",
       "<style scoped>\n",
       "    .dataframe tbody tr th:only-of-type {\n",
       "        vertical-align: middle;\n",
       "    }\n",
       "\n",
       "    .dataframe tbody tr th {\n",
       "        vertical-align: top;\n",
       "    }\n",
       "\n",
       "    .dataframe thead th {\n",
       "        text-align: right;\n",
       "    }\n",
       "</style>\n",
       "<table border=\"1\" class=\"dataframe\">\n",
       "  <thead>\n",
       "    <tr style=\"text-align: right;\">\n",
       "      <th></th>\n",
       "      <th>sepal length (cm)</th>\n",
       "      <th>sepal width (cm)</th>\n",
       "      <th>petal length (cm)</th>\n",
       "      <th>petal width (cm)</th>\n",
       "      <th>type</th>\n",
       "    </tr>\n",
       "  </thead>\n",
       "  <tbody>\n",
       "    <tr>\n",
       "      <th>0</th>\n",
       "      <td>5.1</td>\n",
       "      <td>3.5</td>\n",
       "      <td>1.4</td>\n",
       "      <td>0.2</td>\n",
       "      <td>0</td>\n",
       "    </tr>\n",
       "    <tr>\n",
       "      <th>1</th>\n",
       "      <td>4.9</td>\n",
       "      <td>3.0</td>\n",
       "      <td>1.4</td>\n",
       "      <td>0.2</td>\n",
       "      <td>0</td>\n",
       "    </tr>\n",
       "    <tr>\n",
       "      <th>2</th>\n",
       "      <td>4.7</td>\n",
       "      <td>3.2</td>\n",
       "      <td>1.3</td>\n",
       "      <td>0.2</td>\n",
       "      <td>0</td>\n",
       "    </tr>\n",
       "    <tr>\n",
       "      <th>3</th>\n",
       "      <td>4.6</td>\n",
       "      <td>3.1</td>\n",
       "      <td>1.5</td>\n",
       "      <td>0.2</td>\n",
       "      <td>0</td>\n",
       "    </tr>\n",
       "    <tr>\n",
       "      <th>4</th>\n",
       "      <td>5.0</td>\n",
       "      <td>3.6</td>\n",
       "      <td>1.4</td>\n",
       "      <td>0.2</td>\n",
       "      <td>0</td>\n",
       "    </tr>\n",
       "    <tr>\n",
       "      <th>...</th>\n",
       "      <td>...</td>\n",
       "      <td>...</td>\n",
       "      <td>...</td>\n",
       "      <td>...</td>\n",
       "      <td>...</td>\n",
       "    </tr>\n",
       "    <tr>\n",
       "      <th>145</th>\n",
       "      <td>6.7</td>\n",
       "      <td>3.0</td>\n",
       "      <td>5.2</td>\n",
       "      <td>2.3</td>\n",
       "      <td>2</td>\n",
       "    </tr>\n",
       "    <tr>\n",
       "      <th>146</th>\n",
       "      <td>6.3</td>\n",
       "      <td>2.5</td>\n",
       "      <td>5.0</td>\n",
       "      <td>1.9</td>\n",
       "      <td>2</td>\n",
       "    </tr>\n",
       "    <tr>\n",
       "      <th>147</th>\n",
       "      <td>6.5</td>\n",
       "      <td>3.0</td>\n",
       "      <td>5.2</td>\n",
       "      <td>2.0</td>\n",
       "      <td>2</td>\n",
       "    </tr>\n",
       "    <tr>\n",
       "      <th>148</th>\n",
       "      <td>6.2</td>\n",
       "      <td>3.4</td>\n",
       "      <td>5.4</td>\n",
       "      <td>2.3</td>\n",
       "      <td>2</td>\n",
       "    </tr>\n",
       "    <tr>\n",
       "      <th>149</th>\n",
       "      <td>5.9</td>\n",
       "      <td>3.0</td>\n",
       "      <td>5.1</td>\n",
       "      <td>1.8</td>\n",
       "      <td>2</td>\n",
       "    </tr>\n",
       "  </tbody>\n",
       "</table>\n",
       "<p>150 rows × 5 columns</p>\n",
       "</div>"
      ],
      "text/plain": [
       "     sepal length (cm)  sepal width (cm)  petal length (cm)  petal width (cm)  \\\n",
       "0                  5.1               3.5                1.4               0.2   \n",
       "1                  4.9               3.0                1.4               0.2   \n",
       "2                  4.7               3.2                1.3               0.2   \n",
       "3                  4.6               3.1                1.5               0.2   \n",
       "4                  5.0               3.6                1.4               0.2   \n",
       "..                 ...               ...                ...               ...   \n",
       "145                6.7               3.0                5.2               2.3   \n",
       "146                6.3               2.5                5.0               1.9   \n",
       "147                6.5               3.0                5.2               2.0   \n",
       "148                6.2               3.4                5.4               2.3   \n",
       "149                5.9               3.0                5.1               1.8   \n",
       "\n",
       "    type  \n",
       "0      0  \n",
       "1      0  \n",
       "2      0  \n",
       "3      0  \n",
       "4      0  \n",
       "..   ...  \n",
       "145    2  \n",
       "146    2  \n",
       "147    2  \n",
       "148    2  \n",
       "149    2  \n",
       "\n",
       "[150 rows x 5 columns]"
      ]
     },
     "execution_count": 1,
     "metadata": {},
     "output_type": "execute_result"
    }
   ],
   "source": [
    "# Anuar Konkashbaev\n",
    "# class DDS-8555 v1\n",
    "# Assignment 1\n",
    "import pandas as pd\n",
    "from sklearn import datasets\n",
    "iris= pd.DataFrame(datasets.load_iris().data)\n",
    "iris.columns = datasets.load_iris().feature_names\n",
    "iris['type'] = datasets.load_iris().target\n",
    "iris['type']=iris['type'].astype('object') \n",
    "iris"
   ]
  },
  {
   "cell_type": "code",
   "execution_count": 2,
   "id": "b2085c5f-ed5a-4710-84ed-dff14f4c8879",
   "metadata": {},
   "outputs": [],
   "source": [
    "iris['new']=(iris.iloc[:,0]*iris.iloc[:,1])/(iris.iloc[:,2]*iris.iloc[:,3])"
   ]
  },
  {
   "cell_type": "code",
   "execution_count": 3,
   "id": "f8118931-1c07-42cb-befa-ba09784f3efc",
   "metadata": {},
   "outputs": [
    {
     "data": {
      "text/plain": [
       "0      63.750000\n",
       "1      52.500000\n",
       "2      57.846154\n",
       "3      47.533333\n",
       "4      64.285714\n",
       "         ...    \n",
       "145     1.680602\n",
       "146     1.657895\n",
       "147     1.875000\n",
       "148     1.697262\n",
       "149     1.928105\n",
       "Name: new, Length: 150, dtype: float64"
      ]
     },
     "execution_count": 3,
     "metadata": {},
     "output_type": "execute_result"
    }
   ],
   "source": [
    "iris['new']"
   ]
  },
  {
   "cell_type": "code",
   "execution_count": 4,
   "id": "329cc44f-cd9a-4674-bd17-5624a2219f17",
   "metadata": {},
   "outputs": [],
   "source": [
    "from sklearn.model_selection import train_test_split as tts \n",
    "X_train, X_test, y_train, y_test = tts(iris.iloc[:,0:3], iris.iloc[:,4], test_size=0.2, random_state=42,\n",
    "stratify=iris.iloc[:,4]) "
   ]
  },
  {
   "cell_type": "code",
   "execution_count": 5,
   "id": "1e413886-1c70-43b4-95cb-670f3040c212",
   "metadata": {},
   "outputs": [
    {
     "data": {
      "text/html": [
       "<div>\n",
       "<style scoped>\n",
       "    .dataframe tbody tr th:only-of-type {\n",
       "        vertical-align: middle;\n",
       "    }\n",
       "\n",
       "    .dataframe tbody tr th {\n",
       "        vertical-align: top;\n",
       "    }\n",
       "\n",
       "    .dataframe thead th {\n",
       "        text-align: right;\n",
       "    }\n",
       "</style>\n",
       "<table border=\"1\" class=\"dataframe\">\n",
       "  <thead>\n",
       "    <tr style=\"text-align: right;\">\n",
       "      <th></th>\n",
       "      <th>sepal length (cm)</th>\n",
       "      <th>sepal width (cm)</th>\n",
       "      <th>petal length (cm)</th>\n",
       "    </tr>\n",
       "  </thead>\n",
       "  <tbody>\n",
       "    <tr>\n",
       "      <th>8</th>\n",
       "      <td>4.4</td>\n",
       "      <td>2.9</td>\n",
       "      <td>1.4</td>\n",
       "    </tr>\n",
       "    <tr>\n",
       "      <th>106</th>\n",
       "      <td>4.9</td>\n",
       "      <td>2.5</td>\n",
       "      <td>4.5</td>\n",
       "    </tr>\n",
       "    <tr>\n",
       "      <th>76</th>\n",
       "      <td>6.8</td>\n",
       "      <td>2.8</td>\n",
       "      <td>4.8</td>\n",
       "    </tr>\n",
       "    <tr>\n",
       "      <th>9</th>\n",
       "      <td>4.9</td>\n",
       "      <td>3.1</td>\n",
       "      <td>1.5</td>\n",
       "    </tr>\n",
       "    <tr>\n",
       "      <th>89</th>\n",
       "      <td>5.5</td>\n",
       "      <td>2.5</td>\n",
       "      <td>4.0</td>\n",
       "    </tr>\n",
       "    <tr>\n",
       "      <th>...</th>\n",
       "      <td>...</td>\n",
       "      <td>...</td>\n",
       "      <td>...</td>\n",
       "    </tr>\n",
       "    <tr>\n",
       "      <th>37</th>\n",
       "      <td>4.9</td>\n",
       "      <td>3.6</td>\n",
       "      <td>1.4</td>\n",
       "    </tr>\n",
       "    <tr>\n",
       "      <th>2</th>\n",
       "      <td>4.7</td>\n",
       "      <td>3.2</td>\n",
       "      <td>1.3</td>\n",
       "    </tr>\n",
       "    <tr>\n",
       "      <th>33</th>\n",
       "      <td>5.5</td>\n",
       "      <td>4.2</td>\n",
       "      <td>1.4</td>\n",
       "    </tr>\n",
       "    <tr>\n",
       "      <th>52</th>\n",
       "      <td>6.9</td>\n",
       "      <td>3.1</td>\n",
       "      <td>4.9</td>\n",
       "    </tr>\n",
       "    <tr>\n",
       "      <th>3</th>\n",
       "      <td>4.6</td>\n",
       "      <td>3.1</td>\n",
       "      <td>1.5</td>\n",
       "    </tr>\n",
       "  </tbody>\n",
       "</table>\n",
       "<p>120 rows × 3 columns</p>\n",
       "</div>"
      ],
      "text/plain": [
       "     sepal length (cm)  sepal width (cm)  petal length (cm)\n",
       "8                  4.4               2.9                1.4\n",
       "106                4.9               2.5                4.5\n",
       "76                 6.8               2.8                4.8\n",
       "9                  4.9               3.1                1.5\n",
       "89                 5.5               2.5                4.0\n",
       "..                 ...               ...                ...\n",
       "37                 4.9               3.6                1.4\n",
       "2                  4.7               3.2                1.3\n",
       "33                 5.5               4.2                1.4\n",
       "52                 6.9               3.1                4.9\n",
       "3                  4.6               3.1                1.5\n",
       "\n",
       "[120 rows x 3 columns]"
      ]
     },
     "execution_count": 5,
     "metadata": {},
     "output_type": "execute_result"
    }
   ],
   "source": [
    "X_train"
   ]
  },
  {
   "cell_type": "code",
   "execution_count": 6,
   "id": "c3ec435d-a553-48d0-98b3-2590a618a444",
   "metadata": {},
   "outputs": [
    {
     "data": {
      "text/html": [
       "<div>\n",
       "<style scoped>\n",
       "    .dataframe tbody tr th:only-of-type {\n",
       "        vertical-align: middle;\n",
       "    }\n",
       "\n",
       "    .dataframe tbody tr th {\n",
       "        vertical-align: top;\n",
       "    }\n",
       "\n",
       "    .dataframe thead th {\n",
       "        text-align: right;\n",
       "    }\n",
       "</style>\n",
       "<table border=\"1\" class=\"dataframe\">\n",
       "  <thead>\n",
       "    <tr style=\"text-align: right;\">\n",
       "      <th></th>\n",
       "      <th>sepal length (cm)</th>\n",
       "      <th>sepal width (cm)</th>\n",
       "      <th>petal length (cm)</th>\n",
       "    </tr>\n",
       "  </thead>\n",
       "  <tbody>\n",
       "    <tr>\n",
       "      <th>38</th>\n",
       "      <td>4.4</td>\n",
       "      <td>3.0</td>\n",
       "      <td>1.3</td>\n",
       "    </tr>\n",
       "    <tr>\n",
       "      <th>127</th>\n",
       "      <td>6.1</td>\n",
       "      <td>3.0</td>\n",
       "      <td>4.9</td>\n",
       "    </tr>\n",
       "    <tr>\n",
       "      <th>57</th>\n",
       "      <td>4.9</td>\n",
       "      <td>2.4</td>\n",
       "      <td>3.3</td>\n",
       "    </tr>\n",
       "    <tr>\n",
       "      <th>93</th>\n",
       "      <td>5.0</td>\n",
       "      <td>2.3</td>\n",
       "      <td>3.3</td>\n",
       "    </tr>\n",
       "    <tr>\n",
       "      <th>42</th>\n",
       "      <td>4.4</td>\n",
       "      <td>3.2</td>\n",
       "      <td>1.3</td>\n",
       "    </tr>\n",
       "    <tr>\n",
       "      <th>56</th>\n",
       "      <td>6.3</td>\n",
       "      <td>3.3</td>\n",
       "      <td>4.7</td>\n",
       "    </tr>\n",
       "    <tr>\n",
       "      <th>22</th>\n",
       "      <td>4.6</td>\n",
       "      <td>3.6</td>\n",
       "      <td>1.0</td>\n",
       "    </tr>\n",
       "    <tr>\n",
       "      <th>20</th>\n",
       "      <td>5.4</td>\n",
       "      <td>3.4</td>\n",
       "      <td>1.7</td>\n",
       "    </tr>\n",
       "    <tr>\n",
       "      <th>147</th>\n",
       "      <td>6.5</td>\n",
       "      <td>3.0</td>\n",
       "      <td>5.2</td>\n",
       "    </tr>\n",
       "    <tr>\n",
       "      <th>84</th>\n",
       "      <td>5.4</td>\n",
       "      <td>3.0</td>\n",
       "      <td>4.5</td>\n",
       "    </tr>\n",
       "    <tr>\n",
       "      <th>107</th>\n",
       "      <td>7.3</td>\n",
       "      <td>2.9</td>\n",
       "      <td>6.3</td>\n",
       "    </tr>\n",
       "    <tr>\n",
       "      <th>141</th>\n",
       "      <td>6.9</td>\n",
       "      <td>3.1</td>\n",
       "      <td>5.1</td>\n",
       "    </tr>\n",
       "    <tr>\n",
       "      <th>104</th>\n",
       "      <td>6.5</td>\n",
       "      <td>3.0</td>\n",
       "      <td>5.8</td>\n",
       "    </tr>\n",
       "    <tr>\n",
       "      <th>51</th>\n",
       "      <td>6.4</td>\n",
       "      <td>3.2</td>\n",
       "      <td>4.5</td>\n",
       "    </tr>\n",
       "    <tr>\n",
       "      <th>7</th>\n",
       "      <td>5.0</td>\n",
       "      <td>3.4</td>\n",
       "      <td>1.5</td>\n",
       "    </tr>\n",
       "    <tr>\n",
       "      <th>49</th>\n",
       "      <td>5.0</td>\n",
       "      <td>3.3</td>\n",
       "      <td>1.4</td>\n",
       "    </tr>\n",
       "    <tr>\n",
       "      <th>14</th>\n",
       "      <td>5.8</td>\n",
       "      <td>4.0</td>\n",
       "      <td>1.2</td>\n",
       "    </tr>\n",
       "    <tr>\n",
       "      <th>69</th>\n",
       "      <td>5.6</td>\n",
       "      <td>2.5</td>\n",
       "      <td>3.9</td>\n",
       "    </tr>\n",
       "    <tr>\n",
       "      <th>63</th>\n",
       "      <td>6.1</td>\n",
       "      <td>2.9</td>\n",
       "      <td>4.7</td>\n",
       "    </tr>\n",
       "    <tr>\n",
       "      <th>138</th>\n",
       "      <td>6.0</td>\n",
       "      <td>3.0</td>\n",
       "      <td>4.8</td>\n",
       "    </tr>\n",
       "    <tr>\n",
       "      <th>10</th>\n",
       "      <td>5.4</td>\n",
       "      <td>3.7</td>\n",
       "      <td>1.5</td>\n",
       "    </tr>\n",
       "    <tr>\n",
       "      <th>140</th>\n",
       "      <td>6.7</td>\n",
       "      <td>3.1</td>\n",
       "      <td>5.6</td>\n",
       "    </tr>\n",
       "    <tr>\n",
       "      <th>58</th>\n",
       "      <td>6.6</td>\n",
       "      <td>2.9</td>\n",
       "      <td>4.6</td>\n",
       "    </tr>\n",
       "    <tr>\n",
       "      <th>134</th>\n",
       "      <td>6.1</td>\n",
       "      <td>2.6</td>\n",
       "      <td>5.6</td>\n",
       "    </tr>\n",
       "    <tr>\n",
       "      <th>132</th>\n",
       "      <td>6.4</td>\n",
       "      <td>2.8</td>\n",
       "      <td>5.6</td>\n",
       "    </tr>\n",
       "    <tr>\n",
       "      <th>77</th>\n",
       "      <td>6.7</td>\n",
       "      <td>3.0</td>\n",
       "      <td>5.0</td>\n",
       "    </tr>\n",
       "    <tr>\n",
       "      <th>75</th>\n",
       "      <td>6.6</td>\n",
       "      <td>3.0</td>\n",
       "      <td>4.4</td>\n",
       "    </tr>\n",
       "    <tr>\n",
       "      <th>18</th>\n",
       "      <td>5.7</td>\n",
       "      <td>3.8</td>\n",
       "      <td>1.7</td>\n",
       "    </tr>\n",
       "    <tr>\n",
       "      <th>116</th>\n",
       "      <td>6.5</td>\n",
       "      <td>3.0</td>\n",
       "      <td>5.5</td>\n",
       "    </tr>\n",
       "    <tr>\n",
       "      <th>28</th>\n",
       "      <td>5.2</td>\n",
       "      <td>3.4</td>\n",
       "      <td>1.4</td>\n",
       "    </tr>\n",
       "  </tbody>\n",
       "</table>\n",
       "</div>"
      ],
      "text/plain": [
       "     sepal length (cm)  sepal width (cm)  petal length (cm)\n",
       "38                 4.4               3.0                1.3\n",
       "127                6.1               3.0                4.9\n",
       "57                 4.9               2.4                3.3\n",
       "93                 5.0               2.3                3.3\n",
       "42                 4.4               3.2                1.3\n",
       "56                 6.3               3.3                4.7\n",
       "22                 4.6               3.6                1.0\n",
       "20                 5.4               3.4                1.7\n",
       "147                6.5               3.0                5.2\n",
       "84                 5.4               3.0                4.5\n",
       "107                7.3               2.9                6.3\n",
       "141                6.9               3.1                5.1\n",
       "104                6.5               3.0                5.8\n",
       "51                 6.4               3.2                4.5\n",
       "7                  5.0               3.4                1.5\n",
       "49                 5.0               3.3                1.4\n",
       "14                 5.8               4.0                1.2\n",
       "69                 5.6               2.5                3.9\n",
       "63                 6.1               2.9                4.7\n",
       "138                6.0               3.0                4.8\n",
       "10                 5.4               3.7                1.5\n",
       "140                6.7               3.1                5.6\n",
       "58                 6.6               2.9                4.6\n",
       "134                6.1               2.6                5.6\n",
       "132                6.4               2.8                5.6\n",
       "77                 6.7               3.0                5.0\n",
       "75                 6.6               3.0                4.4\n",
       "18                 5.7               3.8                1.7\n",
       "116                6.5               3.0                5.5\n",
       "28                 5.2               3.4                1.4"
      ]
     },
     "execution_count": 6,
     "metadata": {},
     "output_type": "execute_result"
    }
   ],
   "source": [
    "X_test"
   ]
  },
  {
   "cell_type": "code",
   "execution_count": 7,
   "id": "d50f0570-45fc-4ff7-b9c8-6ae62d30d879",
   "metadata": {},
   "outputs": [
    {
     "data": {
      "text/plain": [
       "8      0\n",
       "106    2\n",
       "76     1\n",
       "9      0\n",
       "89     1\n",
       "      ..\n",
       "37     0\n",
       "2      0\n",
       "33     0\n",
       "52     1\n",
       "3      0\n",
       "Name: type, Length: 120, dtype: object"
      ]
     },
     "execution_count": 7,
     "metadata": {},
     "output_type": "execute_result"
    }
   ],
   "source": [
    "y_train"
   ]
  },
  {
   "cell_type": "code",
   "execution_count": 8,
   "id": "28571c18-daa0-49ad-beb7-090703d1490f",
   "metadata": {},
   "outputs": [
    {
     "data": {
      "text/plain": [
       "38     0\n",
       "127    2\n",
       "57     1\n",
       "93     1\n",
       "42     0\n",
       "56     1\n",
       "22     0\n",
       "20     0\n",
       "147    2\n",
       "84     1\n",
       "107    2\n",
       "141    2\n",
       "104    2\n",
       "51     1\n",
       "7      0\n",
       "49     0\n",
       "14     0\n",
       "69     1\n",
       "63     1\n",
       "138    2\n",
       "10     0\n",
       "140    2\n",
       "58     1\n",
       "134    2\n",
       "132    2\n",
       "77     1\n",
       "75     1\n",
       "18     0\n",
       "116    2\n",
       "28     0\n",
       "Name: type, dtype: object"
      ]
     },
     "execution_count": 8,
     "metadata": {},
     "output_type": "execute_result"
    }
   ],
   "source": [
    "y_test"
   ]
  },
  {
   "cell_type": "code",
   "execution_count": 9,
   "id": "f968afb7-44a6-482a-a709-60f75d04a3bd",
   "metadata": {},
   "outputs": [
    {
     "name": "stdout",
     "output_type": "stream",
     "text": [
      "est1: \n",
      "\n",
      " ME: -0.677 \n",
      " MPE: -0.237 \n",
      " MAE: 0.694 \n",
      " MSE: 0.602 \n",
      " MAPE: 0.242\n",
      "est2: \n",
      "\n",
      " ME: 1.022 \n",
      " MPE: 0.32 \n",
      " MAE: 1.022 \n",
      " MSE: 1.188 \n",
      " MAPE: 0.32\n"
     ]
    }
   ],
   "source": [
    "import numpy as np\n",
    "from sklearn.metrics import mean_squared_error as MSE\n",
    "from sklearn.metrics import mean_absolute_error as MAE \n",
    "from sklearn.metrics import mean_absolute_percentage_error as MAPE\n",
    "def myf(y,yhat):\n",
    "    ME=np.round(np.mean(y-yhat),3)\n",
    "    MPE=np.round(np.mean((y-yhat)/y),3)\n",
    "    myMAE=np.round(MAE(y,yhat),3)\n",
    "    myMSE=np.round(MSE(y,yhat),3)\n",
    "    myMAPE=np.round(MAPE(y,yhat),3)\n",
    "    print(\"\\n\",\"ME:\", np.round(ME,3),\"\\n\",\"MPE:\",MPE,\"\\n\", \"MAE:\",  myMAE,\"\\n\", \"MSE:\", myMSE,\"\\n\",\"MAPE:\",myMAPE)\n",
    "est1=np.mean(X_train['petal length (cm)'])\n",
    "est2=np.mean(X_train['sepal length (cm)']-X_train['petal length (cm)']) # I changed petal width to petal length, because original variable does not exist\n",
    "est1=[est1]*len(y_test)\n",
    "est2=[est2]*len(y_test)\n",
    "print(\"est1: \")\n",
    "myf(X_test['sepal width (cm)'],est1) \n",
    "print(\"est2: \")\n",
    "myf(X_test['sepal width (cm)'],est2) "
   ]
  },
  {
   "cell_type": "code",
   "execution_count": 10,
   "id": "df662002-1a63-4198-8e1c-af6d9e0a5bff",
   "metadata": {},
   "outputs": [
    {
     "name": "stdout",
     "output_type": "stream",
     "text": [
      "              precision    recall  f1-score   support\n",
      "\n",
      "           0       0.71      0.50      0.59        10\n",
      "           1       0.33      0.20      0.25        10\n",
      "           2       0.59      1.00      0.74        10\n",
      "\n",
      "    accuracy                           0.57        30\n",
      "   macro avg       0.55      0.57      0.53        30\n",
      "weighted avg       0.55      0.57      0.53        30\n",
      "\n",
      "              precision    recall  f1-score   support\n",
      "\n",
      "           0       0.69      0.90      0.78        10\n",
      "           1       0.38      0.30      0.33        10\n",
      "           2       0.67      0.60      0.63        10\n",
      "\n",
      "    accuracy                           0.60        30\n",
      "   macro avg       0.58      0.60      0.58        30\n",
      "weighted avg       0.58      0.60      0.58        30\n",
      "\n"
     ]
    }
   ],
   "source": [
    "from sklearn.metrics import confusion_matrix as cm, ConfusionMatrixDisplay as cmd\n",
    "from sklearn.metrics import classification_report as cr\n",
    "import matplotlib.pyplot as plt\n",
    "from numpy import percentile\n",
    "est3=percentile(X_train['sepal length (cm)'], [25, 50])\n",
    "y_hat=np.zeros(len(y_test))\n",
    "y_hat[X_test['sepal length (cm)']>est3[0]]=1\n",
    "y_hat[X_test['sepal length (cm)']>est3[1]]=2\n",
    "y_hat=y_hat.astype('int')\n",
    "print(cr(y_test.astype('int'),y_hat)) \n",
    "est4=percentile(X_train['sepal length (cm)'], [50,75]) \n",
    "y_hat2=np.zeros(len(y_test)) \n",
    "y_hat2[X_test['sepal length (cm)']>est4[0]]=1 # I changed est3 to est4\n",
    "y_hat2[X_test['sepal length (cm)']>est4[1]]=2 # I changed est3 to est4\n",
    "y_hat2=y_hat2.astype('int') \n",
    "print(cr(y_test.astype('int'),y_hat2))\n"
   ]
  },
  {
   "cell_type": "code",
   "execution_count": 11,
   "id": "a6493c8d-b046-4061-97d4-c9dc99c9a15b",
   "metadata": {},
   "outputs": [
    {
     "data": {
      "text/plain": [
       "<matplotlib.collections.PathCollection at 0x28a21b10140>"
      ]
     },
     "execution_count": 11,
     "metadata": {},
     "output_type": "execute_result"
    },
    {
     "data": {
      "image/png": "[encoded data removed]",
      "text/plain": [
       "<Figure size 640x480 with 1 Axes>"
      ]
     },
     "metadata": {},
     "output_type": "display_data"
    }
   ],
   "source": [
    "plt.scatter(iris['sepal width (cm)'],iris['sepal length (cm)'])"
   ]
  },
  {
   "cell_type": "code",
   "execution_count": 12,
   "id": "4c8f6ce1-c40d-410c-b2e2-8ad369ab3a20",
   "metadata": {},
   "outputs": [
    {
     "data": {
      "text/plain": [
       "<matplotlib.collections.PathCollection at 0x28a21ae6300>"
      ]
     },
     "execution_count": 12,
     "metadata": {},
     "output_type": "execute_result"
    },
    {
     "data": {
      "image/png": "[encoded data removed]",
      "text/plain": [
       "<Figure size 640x480 with 1 Axes>"
      ]
     },
     "metadata": {},
     "output_type": "display_data"
    }
   ],
   "source": [
    "plt.scatter(iris['sepal width (cm)'],iris['sepal length (cm)']-iris['petal length (cm)'])"
   ]
  },
  {
   "cell_type": "code",
   "execution_count": 13,
   "id": "77ba76f9-0664-4a39-80c5-a98c5e1f5675",
   "metadata": {},
   "outputs": [
    {
     "data": {
      "text/plain": [
       "<matplotlib.collections.PathCollection at 0x28a21bd99d0>"
      ]
     },
     "execution_count": 13,
     "metadata": {},
     "output_type": "execute_result"
    },
    {
     "data": {
      "image/png": "[encoded data removed]",
      "text/plain": [
       "<Figure size 640x480 with 1 Axes>"
      ]
     },
     "metadata": {},
     "output_type": "display_data"
    }
   ],
   "source": [
    "plt.scatter(X_train['sepal width (cm)'],X_train['sepal length (cm)'])"
   ]
  },
  {
   "cell_type": "code",
   "execution_count": 14,
   "id": "c283794d-43bd-4198-836f-4ced73ae8421",
   "metadata": {},
   "outputs": [
    {
     "data": {
      "text/plain": [
       "<matplotlib.collections.PathCollection at 0x28a21c41d90>"
      ]
     },
     "execution_count": 14,
     "metadata": {},
     "output_type": "execute_result"
    },
    {
     "data": {
      "image/png": "[encoded data removed]",
      "text/plain": [
       "<Figure size 640x480 with 1 Axes>"
      ]
     },
     "metadata": {},
     "output_type": "display_data"
    }
   ],
   "source": [
    "plt.scatter(X_train['sepal width (cm)'],X_train['sepal length (cm)']-X_train['petal length (cm)'])"
   ]
  },
  {
   "cell_type": "code",
   "execution_count": 15,
   "id": "ddc2f646-3f40-405a-bf54-a43ebd356da5",
   "metadata": {},
   "outputs": [
    {
     "data": {
      "text/plain": [
       "<matplotlib.collections.PathCollection at 0x28a21bd9e20>"
      ]
     },
     "execution_count": 15,
     "metadata": {},
     "output_type": "execute_result"
    },
    {
     "data": {
      "image/png": "[encoded data removed]",
      "text/plain": [
       "<Figure size 640x480 with 1 Axes>"
      ]
     },
     "metadata": {},
     "output_type": "display_data"
    }
   ],
   "source": [
    "plt.scatter(X_test['sepal width (cm)'],X_test['sepal length (cm)']-X_test['petal length (cm)'])"
   ]
  },
  {
   "cell_type": "code",
   "execution_count": null,
   "id": "77c2a047-31c2-416d-84ba-801f613d8782",
   "metadata": {},
   "outputs": [],
   "source": []
  },
  {
   "cell_type": "code",
   "execution_count": null,
   "id": "84ae39b9-936d-4f08-9bb6-ef124f14c0b8",
   "metadata": {},
   "outputs": [],
   "source": []
  }
 ],
 "metadata": {
  "kernelspec": {
   "display_name": "Python 3 (ipykernel)",
   "language": "python",
   "name": "python3"
  },
  "language_info": {
   "codemirror_mode": {
    "name": "ipython",
    "version": 3
   },
   "file_extension": ".py",
   "mimetype": "text/x-python",
   "name": "python",
   "nbconvert_exporter": "python",
   "pygments_lexer": "ipython3",
   "version": "3.12.3"
  }
 },
 "nbformat": 4,
 "nbformat_minor": 5
}
